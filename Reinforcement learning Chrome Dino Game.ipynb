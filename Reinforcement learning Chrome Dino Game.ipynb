{
 "cells": [
  {
   "cell_type": "markdown",
   "id": "0bfc0c4f",
   "metadata": {},
   "source": [
    "# 1. Install and Import Dependencies"
   ]
  },
  {
   "cell_type": "code",
   "execution_count": null,
   "id": "cfacc8da",
   "metadata": {
    "scrolled": true
   },
   "outputs": [],
   "source": [
    "!pip3 install torch torchvision torchaudio --extra-index-url https://download.pytorch.org/whl/cu113\n",
    "    "
   ]
  },
  {
   "cell_type": "code",
   "execution_count": null,
   "id": "897f620b",
   "metadata": {},
   "outputs": [],
   "source": [
    "!pip install stable-baselines3[extra] protobuf==3.20.*\n"
   ]
  },
  {
   "cell_type": "code",
   "execution_count": null,
   "id": "92a86532",
   "metadata": {},
   "outputs": [],
   "source": [
    "!pip install mss pydirectinput pytesseract"
   ]
  },
  {
   "cell_type": "code",
   "execution_count": null,
   "id": "c569d99a",
   "metadata": {},
   "outputs": [],
   "source": [
    "from mss import mss\n",
    "import pydirectinput\n",
    "import cv2\n",
    "import numpy as np\n",
    "import pytesseract\n",
    "from matplotlib import pyplot as plt\n",
    "import time\n",
    "from gym import Env\n",
    "from gym.spaces import Box, Discrete"
   ]
  },
  {
   "cell_type": "markdown",
   "id": "f02d1c68",
   "metadata": {},
   "source": [
    "# 2. Build the Environment"
   ]
  },
  {
   "cell_type": "markdown",
   "id": "98992e01",
   "metadata": {},
   "source": [
    "## 2.1 Create Environment"
   ]
  },
  {
   "cell_type": "code",
   "execution_count": null,
   "id": "8b565975",
   "metadata": {},
   "outputs": [],
   "source": [
    "class WebGame(Env):\n",
    "    def __init__(self):\n",
    "        super().__init__()\n",
    "        #setup spaces\n",
    "        self.observation_space = Box(low=0, high=255, shape=(1,83,100), dtype=np.uint8)\n",
    "        self.action_space = Discrete(3)\n",
    "        #capture game frames\n",
    "        self.cap = mss()\n",
    "        self.game_location = {'top': 300, 'left': 0, 'width': 600, 'height': 500}\n",
    "        self.done_location = {'top': 405, 'left': 630, 'width': 660, 'height': 70}\n",
    "        \n",
    "    #actions that we wanna play\n",
    "    def step(self, action):\n",
    "        action_map = {\n",
    "            0:'space',\n",
    "            1: 'down', \n",
    "            2: 'no_op'\n",
    "        }\n",
    "        if action !=2:\n",
    "            pydirectinput.press(action_map[action])\n",
    "\n",
    "        done, done_cap = self.get_done() \n",
    "        observation = self.get_observation()\n",
    "        reward = 1 \n",
    "        info = {}\n",
    "        return observation, reward, done, info\n",
    "        \n",
    "    #restart the game\n",
    "    def reset(self):\n",
    "        time.sleep(1)\n",
    "        pydirectinput.click(x=1000, y=600)\n",
    "        pydirectinput.press('space')\n",
    "        return self.get_observation()\n",
    "    \n",
    "    #visualize the game\n",
    "    def render(self):\n",
    "        cv2.imshow('Game', self.current_frame)\n",
    "        if cv2.waitKey(1) & 0xFF == ord('q'):\n",
    "            self.close()\n",
    "            \n",
    "    #this closes the observation\n",
    "    def close(self):\n",
    "        cv2.destroyAllWindows()\n",
    "    \n",
    "    #get the part that we want from the game\n",
    "    def get_observation(self):\n",
    "        raw = np.array(self.cap.grab(self.game_location))[:,:,:3].astype(np.uint8)\n",
    "        gray = cv2.cvtColor(raw, cv2.COLOR_BGR2GRAY)\n",
    "        resized = cv2.resize(gray, (100,100))\n",
    "        channel = np.reshape(resized, (1,100,100))\n",
    "        return channel\n",
    "    \n",
    "    #get the game over text and validate it to restart the game\n",
    "    def get_done(self):\n",
    "        done_cap = np.array(self.cap.grab(self.done_location))\n",
    "        done_strings = ['GAME', 'GAHE','SAME']\n",
    "        done=False\n",
    "        done = False\n",
    "        res = pytesseract.image_to_string(done_cap)[:4]\n",
    "        if res in done_strings:\n",
    "            done = True\n",
    "        return done, done_cap"
   ]
  },
  {
   "cell_type": "markdown",
   "id": "39bad353",
   "metadata": {},
   "source": [
    "## 2.2 Test Environment\n"
   ]
  },
  {
   "cell_type": "code",
   "execution_count": null,
   "id": "9e2931ba",
   "metadata": {},
   "outputs": [],
   "source": [
    "env = WebGame()\n"
   ]
  },
  {
   "cell_type": "code",
   "execution_count": null,
   "id": "2d4db61e",
   "metadata": {},
   "outputs": [],
   "source": [
    "obs=env.get_observation()\n"
   ]
  },
  {
   "cell_type": "code",
   "execution_count": null,
   "id": "181db082",
   "metadata": {},
   "outputs": [],
   "source": [
    "plt.imshow(cv2.cvtColor(obs[0], cv2.COLOR_GRAY2BGR))\n"
   ]
  },
  {
   "cell_type": "code",
   "execution_count": null,
   "id": "9bf57e60",
   "metadata": {},
   "outputs": [],
   "source": [
    "pytesseract.pytesseract.tesseract_cmd='C:\\Program Files\\Tesseract-OCR\\Tesseract.exe'\n"
   ]
  },
  {
   "cell_type": "code",
   "execution_count": null,
   "id": "fdf13ca1",
   "metadata": {},
   "outputs": [],
   "source": [
    "done, done_cap = env.get_done()\n"
   ]
  },
  {
   "cell_type": "code",
   "execution_count": null,
   "id": "1f03ed0f",
   "metadata": {},
   "outputs": [],
   "source": [
    "plt.imshow(done_cap)\n"
   ]
  },
  {
   "cell_type": "code",
   "execution_count": null,
   "id": "9d5fec1f",
   "metadata": {},
   "outputs": [],
   "source": [
    "pytesseract.image_to_string(done_cap)[:4]\n"
   ]
  },
  {
   "cell_type": "code",
   "execution_count": null,
   "id": "1b86a48f",
   "metadata": {},
   "outputs": [],
   "source": [
    "env.reset() "
   ]
  },
  {
   "cell_type": "code",
   "execution_count": null,
   "id": "db99e00a",
   "metadata": {},
   "outputs": [],
   "source": [
    "for episode in range(10): \n",
    "    obs = env.reset()\n",
    "    done = False  \n",
    "    total_reward   = 0\n",
    "    while not done:  \n",
    "        obs, reward,  done, info =  env.step(env.action_space.sample())\n",
    "        total_reward  += reward\n",
    "    print('Total Reward for episode {} is {}'.format(episode, total_reward))    "
   ]
  },
  {
   "cell_type": "markdown",
   "id": "b8eecc26",
   "metadata": {},
   "source": [
    "# 3. Train the Model\n"
   ]
  },
  {
   "cell_type": "markdown",
   "id": "8d2c8f3d",
   "metadata": {},
   "source": [
    "## 3.1 Create Callback"
   ]
  },
  {
   "cell_type": "code",
   "execution_count": null,
   "id": "189fa9b2",
   "metadata": {},
   "outputs": [],
   "source": [
    "#import os for file path management\n",
    "import os \n",
    "#import Base Callback for saving models\n",
    "from stable_baselines3.common.callbacks import BaseCallback\n",
    "#check Environment    \n",
    "from stable_baselines3.common import env_checker"
   ]
  },
  {
   "cell_type": "code",
   "execution_count": null,
   "id": "91bf234b",
   "metadata": {},
   "outputs": [],
   "source": [
    "env_checker.check_env(env)\n"
   ]
  },
  {
   "cell_type": "code",
   "execution_count": null,
   "id": "c117650e",
   "metadata": {},
   "outputs": [],
   "source": [
    "class TrainAndLoggingCallback(BaseCallback):\n",
    "\n",
    "    def __init__(self, check_freq, save_path, verbose=1):\n",
    "        super(TrainAndLoggingCallback, self).__init__(verbose)\n",
    "        self.check_freq = check_freq\n",
    "        self.save_path = save_path\n",
    "\n",
    "    def _init_callback(self):\n",
    "        if self.save_path is not None:\n",
    "            os.makedirs(self.save_path, exist_ok=True)\n",
    "\n",
    "    def _on_step(self):\n",
    "        if self.n_calls % self.check_freq == 0:\n",
    "            model_path = os.path.join(self.save_path, 'best_model_{}'.format(self.n_calls))\n",
    "            self.model.save(model_path)\n",
    "\n",
    "        return True"
   ]
  },
  {
   "cell_type": "code",
   "execution_count": null,
   "id": "784e65f6",
   "metadata": {},
   "outputs": [],
   "source": [
    "CHECKPOINT_DIR = './train/'\n",
    "LOG_DIR = './logs/'"
   ]
  },
  {
   "cell_type": "code",
   "execution_count": null,
   "id": "3b193d4b",
   "metadata": {},
   "outputs": [],
   "source": [
    "callback = TrainAndLoggingCallback(check_freq=10000, save_path=CHECKPOINT_DIR)\n"
   ]
  },
  {
   "cell_type": "markdown",
   "id": "8e712e45",
   "metadata": {},
   "source": [
    "## 3.2 Build DQN and Train\n"
   ]
  },
  {
   "cell_type": "code",
   "execution_count": null,
   "id": "63f63d3b",
   "metadata": {},
   "outputs": [],
   "source": [
    "from stable_baselines3 import DQN\n",
    "from stable_baselines3.common.monitor import Monitor\n",
    "from stable_baselines3.common.vec_env import DummyVecEnv, VecFrameStack"
   ]
  },
  {
   "cell_type": "code",
   "execution_count": null,
   "id": "8f8cfa19",
   "metadata": {},
   "outputs": [],
   "source": [
    "env = WebGame()\n"
   ]
  },
  {
   "cell_type": "code",
   "execution_count": null,
   "id": "6facf61e",
   "metadata": {},
   "outputs": [],
   "source": [
    "model = DQN('CnnPolicy', env, tensorboard_log=LOG_DIR, verbose=1, buffer_size=200000, learning_starts=1000)\n"
   ]
  },
  {
   "cell_type": "code",
   "execution_count": null,
   "id": "96fc6ddf",
   "metadata": {},
   "outputs": [],
   "source": [
    "model.learn(total_timesteps=20000, callback=callback)\n"
   ]
  },
  {
   "cell_type": "markdown",
   "id": "72d0c3a7",
   "metadata": {},
   "source": [
    "# 4. Test out Model\n"
   ]
  },
  {
   "cell_type": "code",
   "execution_count": null,
   "id": "5a6aaf9f",
   "metadata": {},
   "outputs": [],
   "source": [
    "for episode in range(5): \n",
    "    obs = env.reset()\n",
    "    done = False\n",
    "    total_reward = 0 ion, _ = model.predict(obs) \n",
    "        obs, reward, done, info = env.step(int(action))\n",
    "        time.sleep(0.01)\n",
    "        total_reward += reward\n",
    "    print('Total Reward for episode {} is {}'.format(episode, total_reward))\n",
    "    time.sleep(2)"
   ]
  },
  {
   "cell_type": "code",
   "execution_count": null,
   "id": "9292213b",
   "metadata": {},
   "outputs": [],
   "source": [
    " "
   ]
  },
  {
   "cell_type": "code",
   "execution_count": null,
   "id": "5e383850",
   "metadata": {},
   "outputs": [],
   "source": []
  },
  {
   "cell_type": "code",
   "execution_count": null,
   "id": "d1bd78b7",
   "metadata": {},
   "outputs": [],
   "source": []
  }
 ],
 "metadata": {
  "kernelspec": {
   "display_name": "Python 3 (ipykernel)",
   "language": "python",
   "name": "python3"
  },
  "language_info": {
   "codemirror_mode": {
    "name": "ipython",
    "version": 3
   },
   "file_extension": ".py",
   "mimetype": "text/x-python",
   "name": "python",
   "nbconvert_exporter": "python",
   "pygments_lexer": "ipython3",
   "version": "3.9.13"
  }
 },
 "nbformat": 4,
 "nbformat_minor": 5
}
